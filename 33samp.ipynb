{
 "cells": [
  {
   "cell_type": "code",
   "execution_count": 2,
   "id": "440d8d8f",
   "metadata": {},
   "outputs": [
    {
     "name": "stdout",
     "output_type": "stream",
     "text": [
      "Requirement already satisfied: librosa in c:\\users\\deepak\\anaconda3\\lib\\site-packages (0.10.2.post1)\n",
      "Requirement already satisfied: numpy in c:\\users\\deepak\\anaconda3\\lib\\site-packages (1.24.3)\n",
      "Requirement already satisfied: pandas in c:\\users\\deepak\\anaconda3\\lib\\site-packages (2.0.3)\n",
      "Requirement already satisfied: scikit-learn in c:\\users\\deepak\\anaconda3\\lib\\site-packages (1.3.0)\n",
      "Requirement already satisfied: matplotlib in c:\\users\\deepak\\anaconda3\\lib\\site-packages (3.7.2)\n",
      "Requirement already satisfied: soundfile in c:\\users\\deepak\\anaconda3\\lib\\site-packages (0.13.1)\n",
      "Requirement already satisfied: seaborn in c:\\users\\deepak\\anaconda3\\lib\\site-packages (0.12.2)\n",
      "Requirement already satisfied: audioread>=2.1.9 in c:\\users\\deepak\\anaconda3\\lib\\site-packages (from librosa) (3.0.1)\n",
      "Requirement already satisfied: scipy>=1.2.0 in c:\\users\\deepak\\anaconda3\\lib\\site-packages (from librosa) (1.11.1)\n",
      "Requirement already satisfied: joblib>=0.14 in c:\\users\\deepak\\anaconda3\\lib\\site-packages (from librosa) (1.2.0)\n",
      "Requirement already satisfied: decorator>=4.3.0 in c:\\users\\deepak\\anaconda3\\lib\\site-packages (from librosa) (5.1.1)\n",
      "Requirement already satisfied: numba>=0.51.0 in c:\\users\\deepak\\anaconda3\\lib\\site-packages (from librosa) (0.57.1)\n",
      "Requirement already satisfied: pooch>=1.1 in c:\\users\\deepak\\anaconda3\\lib\\site-packages (from librosa) (1.8.2)\n",
      "Requirement already satisfied: soxr>=0.3.2 in c:\\users\\deepak\\anaconda3\\lib\\site-packages (from librosa) (0.5.0.post1)\n",
      "Requirement already satisfied: typing-extensions>=4.1.1 in c:\\users\\deepak\\anaconda3\\lib\\site-packages (from librosa) (4.7.1)\n",
      "Requirement already satisfied: lazy-loader>=0.1 in c:\\users\\deepak\\anaconda3\\lib\\site-packages (from librosa) (0.2)\n",
      "Requirement already satisfied: msgpack>=1.0 in c:\\users\\deepak\\anaconda3\\lib\\site-packages (from librosa) (1.0.3)\n",
      "Requirement already satisfied: python-dateutil>=2.8.2 in c:\\users\\deepak\\anaconda3\\lib\\site-packages (from pandas) (2.8.2)\n",
      "Requirement already satisfied: pytz>=2020.1 in c:\\users\\deepak\\anaconda3\\lib\\site-packages (from pandas) (2023.3.post1)\n",
      "Requirement already satisfied: tzdata>=2022.1 in c:\\users\\deepak\\anaconda3\\lib\\site-packages (from pandas) (2023.3)\n",
      "Requirement already satisfied: threadpoolctl>=2.0.0 in c:\\users\\deepak\\anaconda3\\lib\\site-packages (from scikit-learn) (2.2.0)\n",
      "Requirement already satisfied: contourpy>=1.0.1 in c:\\users\\deepak\\anaconda3\\lib\\site-packages (from matplotlib) (1.0.5)\n",
      "Requirement already satisfied: cycler>=0.10 in c:\\users\\deepak\\anaconda3\\lib\\site-packages (from matplotlib) (0.11.0)\n",
      "Requirement already satisfied: fonttools>=4.22.0 in c:\\users\\deepak\\anaconda3\\lib\\site-packages (from matplotlib) (4.25.0)\n",
      "Requirement already satisfied: kiwisolver>=1.0.1 in c:\\users\\deepak\\anaconda3\\lib\\site-packages (from matplotlib) (1.4.4)\n",
      "Requirement already satisfied: packaging>=20.0 in c:\\users\\deepak\\anaconda3\\lib\\site-packages (from matplotlib) (23.1)\n",
      "Requirement already satisfied: pillow>=6.2.0 in c:\\users\\deepak\\anaconda3\\lib\\site-packages (from matplotlib) (9.4.0)\n",
      "Requirement already satisfied: pyparsing<3.1,>=2.3.1 in c:\\users\\deepak\\anaconda3\\lib\\site-packages (from matplotlib) (3.0.9)\n",
      "Requirement already satisfied: cffi>=1.0 in c:\\users\\deepak\\anaconda3\\lib\\site-packages (from soundfile) (1.15.1)\n",
      "Requirement already satisfied: pycparser in c:\\users\\deepak\\anaconda3\\lib\\site-packages (from cffi>=1.0->soundfile) (2.21)\n",
      "Requirement already satisfied: llvmlite<0.41,>=0.40.0dev0 in c:\\users\\deepak\\anaconda3\\lib\\site-packages (from numba>=0.51.0->librosa) (0.40.0)\n",
      "Requirement already satisfied: platformdirs>=2.5.0 in c:\\users\\deepak\\anaconda3\\lib\\site-packages (from pooch>=1.1->librosa) (3.10.0)\n",
      "Requirement already satisfied: requests>=2.19.0 in c:\\users\\deepak\\anaconda3\\lib\\site-packages (from pooch>=1.1->librosa) (2.31.0)\n",
      "Requirement already satisfied: six>=1.5 in c:\\users\\deepak\\anaconda3\\lib\\site-packages (from python-dateutil>=2.8.2->pandas) (1.16.0)\n",
      "Requirement already satisfied: charset-normalizer<4,>=2 in c:\\users\\deepak\\anaconda3\\lib\\site-packages (from requests>=2.19.0->pooch>=1.1->librosa) (2.0.4)\n",
      "Requirement already satisfied: idna<4,>=2.5 in c:\\users\\deepak\\anaconda3\\lib\\site-packages (from requests>=2.19.0->pooch>=1.1->librosa) (3.4)\n",
      "Requirement already satisfied: urllib3<3,>=1.21.1 in c:\\users\\deepak\\anaconda3\\lib\\site-packages (from requests>=2.19.0->pooch>=1.1->librosa) (1.26.16)\n",
      "Requirement already satisfied: certifi>=2017.4.17 in c:\\users\\deepak\\anaconda3\\lib\\site-packages (from requests>=2.19.0->pooch>=1.1->librosa) (2023.7.22)\n",
      "Note: you may need to restart the kernel to use updated packages.\n"
     ]
    }
   ],
   "source": [
    "pip install librosa numpy pandas scikit-learn matplotlib soundfile seaborn\n"
   ]
  },
  {
   "cell_type": "code",
   "execution_count": 3,
   "id": "86859cb9",
   "metadata": {},
   "outputs": [
    {
     "name": "stdout",
     "output_type": "stream",
     "text": [
      "Speakers: ['.ipynb_checkpoints', 'dpk33', 'lik33', 'raj33']\n",
      "\n",
      ".ipynb_checkpoints has 0 audio files: []\n",
      "\n",
      "dpk33 has 33 audio files: ['10d.wav', '11d.wav', '12d.wav', '13d.wav', '14d1.wav', '15d.wav', '16d.wav', '17d.wav', '18d.wav', '19d1.wav', '1d.wav', '20d.wav', '21d.wav', '22d.wav', '23d.wav', '24d.wav', '25d.wav', '26d1.wav', '27d.wav', '28d.wav', '29d.wav', '2d.wav', '30d.wav', '31d.wav', '32d.wav', '33d.wav', '3d.wav', '4d.wav', '5d.wav', '6d.wav', '7d.wav', '8d.wav', '9d.wav']\n",
      "\n",
      "lik33 has 33 audio files: ['L1.wav', 'L10.wav', 'L11.wav', 'L12.wav', 'L13.wav', 'L14.wav', 'L15.wav', 'L16.wav', 'L17.wav', 'L18.wav', 'L19.wav', 'L2.wav', 'L20.wav', 'L21.wav', 'L22.wav', 'L23.wav', 'L24.wav', 'L25.wav', 'L26.wav', 'L27.wav', 'L3.wav', 'L34.wav', 'L35.wav', 'L36.wav', 'L37.wav', 'L38.wav', 'L39.wav', 'L4.wav', 'L5.wav', 'L6.wav', 'L7.wav', 'L8.wav', 'L9.wav']\n",
      "\n",
      "raj33 has 33 audio files: ['ran1.wav', 'ran10.wav', 'ran11.wav', 'ran12.wav', 'ran13.wav', 'ran14.wav', 'ran15.wav', 'ran16.wav', 'ran17.wav', 'ran18.wav', 'ran19.wav', 'ran2.wav', 'ran20.wav', 'ran21.wav', 'ran22.wav', 'ran23.wav', 'ran24.wav', 'ran25.wav', 'ran26.wav', 'ran27.wav', 'ran28.wav', 'ran29.wav', 'ran3.wav', 'ran30.wav', 'ran31.wav', 'ran32.wav', 'ran33.wav', 'ran4.wav', 'ran5.wav', 'ran6.wav', 'ran7.wav', 'ran8.wav', 'ran9.wav']\n"
     ]
    }
   ],
   "source": [
    "import os\n",
    "\n",
    "dataset_path = \"33samp\"\n",
    "\n",
    "# List all speakers (subfolders)\n",
    "speakers = [f for f in os.listdir(dataset_path) if os.path.isdir(os.path.join(dataset_path, f))]\n",
    "print(\"Speakers:\", speakers)\n",
    "\n",
    "# List audio files for each speaker\n",
    "for speaker in speakers:\n",
    "    speaker_path = os.path.join(dataset_path, speaker)\n",
    "    files = os.listdir(speaker_path)\n",
    "    print(f\"\\n{speaker} has {len(files)} audio files: {files}\")"
   ]
  },
  {
   "cell_type": "code",
   "execution_count": 4,
   "id": "31db5d46",
   "metadata": {},
   "outputs": [],
   "source": [
    "import librosa\n",
    "import numpy as np\n",
    "\n",
    "def extract_mfcc(file_path, n_mfcc=13, sr=16000):\n",
    "    y, sr = librosa.load(file_path, sr=sr, mono=True)  # Load audio\n",
    "    mfcc = librosa.feature.mfcc(y=y, sr=sr, n_mfcc=n_mfcc)  # Extract MFCCs\n",
    "    return np.mean(mfcc, axis=1)  # Take the mean across time"
   ]
  },
  {
   "cell_type": "code",
   "execution_count": 5,
   "id": "9ab353ef",
   "metadata": {},
   "outputs": [
    {
     "name": "stdout",
     "output_type": "stream",
     "text": [
      "MFCC Shape: (13,)\n",
      "MFCC Features:\n",
      " [-330.83047    100.929474     4.2469625   45.285423    -2.5210724\n",
      "   14.055159    -1.5519155   -3.897785    -1.1677694  -11.163385\n",
      "   -2.744204    -3.496664    -6.263084 ]\n"
     ]
    }
   ],
   "source": [
    "file_path = \"33samp/dpk33/1d.wav\"  # Change as needed\n",
    "mfcc_features = extract_mfcc(file_path)\n",
    "\n",
    "print(\"MFCC Shape:\", mfcc_features.shape)  # Expected: (13,)\n",
    "print(\"MFCC Features:\\n\", mfcc_features)"
   ]
  },
  {
   "cell_type": "code",
   "execution_count": 8,
   "id": "90130406",
   "metadata": {},
   "outputs": [
    {
     "name": "stdout",
     "output_type": "stream",
     "text": [
      "Speakers found: ['.ipynb_checkpoints', 'dpk33', 'lik33', 'raj33']\n"
     ]
    },
    {
     "data": {
      "text/html": [
       "<div>\n",
       "<style scoped>\n",
       "    .dataframe tbody tr th:only-of-type {\n",
       "        vertical-align: middle;\n",
       "    }\n",
       "\n",
       "    .dataframe tbody tr th {\n",
       "        vertical-align: top;\n",
       "    }\n",
       "\n",
       "    .dataframe thead th {\n",
       "        text-align: right;\n",
       "    }\n",
       "</style>\n",
       "<table border=\"1\" class=\"dataframe\">\n",
       "  <thead>\n",
       "    <tr style=\"text-align: right;\">\n",
       "      <th></th>\n",
       "      <th>0</th>\n",
       "      <th>1</th>\n",
       "      <th>2</th>\n",
       "      <th>3</th>\n",
       "      <th>4</th>\n",
       "      <th>5</th>\n",
       "      <th>6</th>\n",
       "      <th>7</th>\n",
       "      <th>8</th>\n",
       "      <th>9</th>\n",
       "      <th>10</th>\n",
       "      <th>11</th>\n",
       "      <th>12</th>\n",
       "      <th>label</th>\n",
       "    </tr>\n",
       "  </thead>\n",
       "  <tbody>\n",
       "    <tr>\n",
       "      <th>0</th>\n",
       "      <td>-257.011505</td>\n",
       "      <td>106.160355</td>\n",
       "      <td>-11.713521</td>\n",
       "      <td>56.396660</td>\n",
       "      <td>-8.368375</td>\n",
       "      <td>-17.011631</td>\n",
       "      <td>-10.423728</td>\n",
       "      <td>-5.967870</td>\n",
       "      <td>-15.237088</td>\n",
       "      <td>-15.948683</td>\n",
       "      <td>-0.447853</td>\n",
       "      <td>-2.557593</td>\n",
       "      <td>-13.181442</td>\n",
       "      <td>dpk33</td>\n",
       "    </tr>\n",
       "    <tr>\n",
       "      <th>1</th>\n",
       "      <td>-239.964050</td>\n",
       "      <td>103.416283</td>\n",
       "      <td>-1.802100</td>\n",
       "      <td>33.679798</td>\n",
       "      <td>-10.124496</td>\n",
       "      <td>5.450778</td>\n",
       "      <td>-21.174589</td>\n",
       "      <td>-7.291982</td>\n",
       "      <td>-5.711663</td>\n",
       "      <td>-13.152877</td>\n",
       "      <td>1.912504</td>\n",
       "      <td>-5.827011</td>\n",
       "      <td>-8.687257</td>\n",
       "      <td>dpk33</td>\n",
       "    </tr>\n",
       "    <tr>\n",
       "      <th>2</th>\n",
       "      <td>-204.164703</td>\n",
       "      <td>104.282951</td>\n",
       "      <td>-16.939993</td>\n",
       "      <td>38.474113</td>\n",
       "      <td>-3.998943</td>\n",
       "      <td>-7.332247</td>\n",
       "      <td>-27.504417</td>\n",
       "      <td>5.321534</td>\n",
       "      <td>-16.998734</td>\n",
       "      <td>-11.899725</td>\n",
       "      <td>-2.748642</td>\n",
       "      <td>-1.303363</td>\n",
       "      <td>-9.570438</td>\n",
       "      <td>dpk33</td>\n",
       "    </tr>\n",
       "    <tr>\n",
       "      <th>3</th>\n",
       "      <td>-201.286301</td>\n",
       "      <td>91.200905</td>\n",
       "      <td>2.561321</td>\n",
       "      <td>40.440979</td>\n",
       "      <td>-5.163778</td>\n",
       "      <td>-3.164549</td>\n",
       "      <td>-25.540171</td>\n",
       "      <td>9.136554</td>\n",
       "      <td>-16.924547</td>\n",
       "      <td>-11.782964</td>\n",
       "      <td>-3.948802</td>\n",
       "      <td>3.239573</td>\n",
       "      <td>-4.826466</td>\n",
       "      <td>dpk33</td>\n",
       "    </tr>\n",
       "    <tr>\n",
       "      <th>4</th>\n",
       "      <td>-212.818787</td>\n",
       "      <td>119.914825</td>\n",
       "      <td>-9.261454</td>\n",
       "      <td>60.822887</td>\n",
       "      <td>-16.306513</td>\n",
       "      <td>-2.559133</td>\n",
       "      <td>-9.542895</td>\n",
       "      <td>-0.562665</td>\n",
       "      <td>-20.203697</td>\n",
       "      <td>-14.651353</td>\n",
       "      <td>4.602472</td>\n",
       "      <td>3.114480</td>\n",
       "      <td>-17.279627</td>\n",
       "      <td>dpk33</td>\n",
       "    </tr>\n",
       "  </tbody>\n",
       "</table>\n",
       "</div>"
      ],
      "text/plain": [
       "            0           1          2          3          4          5  \\\n",
       "0 -257.011505  106.160355 -11.713521  56.396660  -8.368375 -17.011631   \n",
       "1 -239.964050  103.416283  -1.802100  33.679798 -10.124496   5.450778   \n",
       "2 -204.164703  104.282951 -16.939993  38.474113  -3.998943  -7.332247   \n",
       "3 -201.286301   91.200905   2.561321  40.440979  -5.163778  -3.164549   \n",
       "4 -212.818787  119.914825  -9.261454  60.822887 -16.306513  -2.559133   \n",
       "\n",
       "           6         7          8          9        10        11         12  \\\n",
       "0 -10.423728 -5.967870 -15.237088 -15.948683 -0.447853 -2.557593 -13.181442   \n",
       "1 -21.174589 -7.291982  -5.711663 -13.152877  1.912504 -5.827011  -8.687257   \n",
       "2 -27.504417  5.321534 -16.998734 -11.899725 -2.748642 -1.303363  -9.570438   \n",
       "3 -25.540171  9.136554 -16.924547 -11.782964 -3.948802  3.239573  -4.826466   \n",
       "4  -9.542895 -0.562665 -20.203697 -14.651353  4.602472  3.114480 -17.279627   \n",
       "\n",
       "   label  \n",
       "0  dpk33  \n",
       "1  dpk33  \n",
       "2  dpk33  \n",
       "3  dpk33  \n",
       "4  dpk33  "
      ]
     },
     "execution_count": 8,
     "metadata": {},
     "output_type": "execute_result"
    }
   ],
   "source": [
    "import os\n",
    "import pandas as pd\n",
    "import numpy as np\n",
    "\n",
    "dataset_path = \"33samp\"  # Your main dataset folder\n",
    "\n",
    "# List all speakers (subfolders in \"record\")\n",
    "speakers = [f for f in os.listdir(dataset_path) if os.path.isdir(os.path.join(dataset_path, f))]\n",
    "print(\"Speakers found:\", speakers)\n",
    "\n",
    "data = []\n",
    "labels = []\n",
    "\n",
    "# Loop through each speaker folder (e.g., 'raj', 'deep')\n",
    "for speaker in speakers:\n",
    "    speaker_path = os.path.join(dataset_path, speaker)\n",
    "\n",
    "    # Loop through each audio file in the speaker's folder\n",
    "    for file in os.listdir(speaker_path):\n",
    "        if file.endswith(\".wav\"):  # Ensure it's a .wav file\n",
    "            file_path = os.path.join(speaker_path, file)\n",
    "            \n",
    "            # Extract MFCC features\n",
    "            mfcc = extract_mfcc(file_path)\n",
    "            \n",
    "            data.append(mfcc)\n",
    "            labels.append(speaker)  # Use the speaker name as the label\n",
    "\n",
    "# Convert to DataFrame for visualization\n",
    "df = pd.DataFrame(data)\n",
    "df[\"label\"] = labels\n",
    "\n",
    "# Display first few rows\n",
    "df.head()"
   ]
  },
  {
   "cell_type": "code",
   "execution_count": 9,
   "id": "e611b2a4",
   "metadata": {},
   "outputs": [
    {
     "name": "stdout",
     "output_type": "stream",
     "text": [
      "Training samples: 79, Testing samples: 20\n"
     ]
    }
   ],
   "source": [
    "from sklearn.model_selection import train_test_split\n",
    "from sklearn.preprocessing import LabelEncoder\n",
    "\n",
    "# Convert speaker names ('raj', 'deep', etc.) to numeric labels\n",
    "label_encoder = LabelEncoder()\n",
    "y = label_encoder.fit_transform(labels)  # Encode speaker names to numbers\n",
    "X = np.array(data)\n",
    "\n",
    "# Split into 80% training, 20% testing\n",
    "X_train, X_test, y_train, y_test = train_test_split(X, y, test_size=0.20, random_state=42)\n",
    "\n",
    "print(f\"Training samples: {len(X_train)}, Testing samples: {len(X_test)}\")"
   ]
  },
  {
   "cell_type": "code",
   "execution_count": 10,
   "id": "6e99a859",
   "metadata": {},
   "outputs": [
    {
     "name": "stdout",
     "output_type": "stream",
     "text": [
      "Training complete!\n"
     ]
    }
   ],
   "source": [
    "from sklearn.svm import SVC\n",
    "from sklearn.pipeline import make_pipeline\n",
    "from sklearn.preprocessing import StandardScaler\n",
    "\n",
    "# Create an SVM model with feature scaling\n",
    "svm_model = make_pipeline(StandardScaler(), SVC(kernel=\"linear\", probability=True))\n",
    "\n",
    "# Train the model\n",
    "svm_model.fit(X_train, y_train)\n",
    "\n",
    "print(\"Training complete!\")"
   ]
  },
  {
   "cell_type": "code",
   "execution_count": 11,
   "id": "787ae812",
   "metadata": {},
   "outputs": [
    {
     "name": "stdout",
     "output_type": "stream",
     "text": [
      "Unique classes in y_test: [0 1 2]\n",
      "Unique classes in y_pred: [0 1 2]\n",
      "Classes from label_encoder: ['dpk33' 'lik33' 'raj33']\n",
      "Model Accuracy: 100.00%\n",
      "              precision    recall  f1-score   support\n",
      "\n",
      "           0       1.00      1.00      1.00         8\n",
      "           1       1.00      1.00      1.00         6\n",
      "           2       1.00      1.00      1.00         6\n",
      "\n",
      "    accuracy                           1.00        20\n",
      "   macro avg       1.00      1.00      1.00        20\n",
      "weighted avg       1.00      1.00      1.00        20\n",
      "\n"
     ]
    }
   ],
   "source": [
    "from sklearn.metrics import accuracy_score, classification_report\n",
    "\n",
    "# Predict on test data\n",
    "y_pred = svm_model.predict(X_test)\n",
    "\n",
    "# Check unique labels\n",
    "print(\"Unique classes in y_test:\", np.unique(y_test))\n",
    "print(\"Unique classes in y_pred:\", np.unique(y_pred))\n",
    "print(\"Classes from label_encoder:\", label_encoder.classes_)\n",
    "\n",
    "# Compute accuracy\n",
    "accuracy = accuracy_score(y_test, y_pred)\n",
    "print(f\"Model Accuracy: {accuracy * 100:.2f}%\")\n",
    "\n",
    "# Print classification report with correct labels\n",
    "print(classification_report(y_test, y_pred, labels=np.unique(y_test), target_names=np.unique(y_test).astype(str)))\n"
   ]
  },
  {
   "cell_type": "code",
   "execution_count": 76,
   "id": "ed6cd86e",
   "metadata": {},
   "outputs": [
    {
     "name": "stderr",
     "output_type": "stream",
     "text": [
      "C:\\Users\\DEEPAK\\AppData\\Local\\Temp\\ipykernel_31900\\2349047386.py:5: UserWarning: PySoundFile failed. Trying audioread instead.\n",
      "  y, sr = librosa.load(file_path, sr=sr, mono=True)  # Load audio\n",
      "C:\\Users\\DEEPAK\\anaconda3\\Lib\\site-packages\\librosa\\core\\audio.py:184: FutureWarning: librosa.core.audio.__audioread_load\n",
      "\tDeprecated as of librosa version 0.10.0.\n",
      "\tIt will be removed in librosa version 1.0.\n",
      "  y, sr_native = __audioread_load(path, offset, duration, dtype)\n"
     ]
    },
    {
     "ename": "FileNotFoundError",
     "evalue": "[Errno 2] No such file or directory: '5 speakers/raj/rn21.wav'",
     "output_type": "error",
     "traceback": [
      "\u001b[1;31m---------------------------------------------------------------------------\u001b[0m",
      "\u001b[1;31mLibsndfileError\u001b[0m                           Traceback (most recent call last)",
      "File \u001b[1;32m~\\anaconda3\\Lib\\site-packages\\librosa\\core\\audio.py:176\u001b[0m, in \u001b[0;36mload\u001b[1;34m(path, sr, mono, offset, duration, dtype, res_type)\u001b[0m\n\u001b[0;32m    175\u001b[0m \u001b[38;5;28;01mtry\u001b[39;00m:\n\u001b[1;32m--> 176\u001b[0m     y, sr_native \u001b[38;5;241m=\u001b[39m __soundfile_load(path, offset, duration, dtype)\n\u001b[0;32m    178\u001b[0m \u001b[38;5;28;01mexcept\u001b[39;00m sf\u001b[38;5;241m.\u001b[39mSoundFileRuntimeError \u001b[38;5;28;01mas\u001b[39;00m exc:\n\u001b[0;32m    179\u001b[0m     \u001b[38;5;66;03m# If soundfile failed, try audioread instead\u001b[39;00m\n",
      "File \u001b[1;32m~\\anaconda3\\Lib\\site-packages\\librosa\\core\\audio.py:209\u001b[0m, in \u001b[0;36m__soundfile_load\u001b[1;34m(path, offset, duration, dtype)\u001b[0m\n\u001b[0;32m    207\u001b[0m \u001b[38;5;28;01melse\u001b[39;00m:\n\u001b[0;32m    208\u001b[0m     \u001b[38;5;66;03m# Otherwise, create the soundfile object\u001b[39;00m\n\u001b[1;32m--> 209\u001b[0m     context \u001b[38;5;241m=\u001b[39m sf\u001b[38;5;241m.\u001b[39mSoundFile(path)\n\u001b[0;32m    211\u001b[0m \u001b[38;5;28;01mwith\u001b[39;00m context \u001b[38;5;28;01mas\u001b[39;00m sf_desc:\n",
      "File \u001b[1;32m~\\anaconda3\\Lib\\site-packages\\soundfile.py:690\u001b[0m, in \u001b[0;36mSoundFile.__init__\u001b[1;34m(self, file, mode, samplerate, channels, subtype, endian, format, closefd, compression_level, bitrate_mode)\u001b[0m\n\u001b[0;32m    688\u001b[0m \u001b[38;5;28mself\u001b[39m\u001b[38;5;241m.\u001b[39m_info \u001b[38;5;241m=\u001b[39m _create_info_struct(file, mode, samplerate, channels,\n\u001b[0;32m    689\u001b[0m                                  \u001b[38;5;28mformat\u001b[39m, subtype, endian)\n\u001b[1;32m--> 690\u001b[0m \u001b[38;5;28mself\u001b[39m\u001b[38;5;241m.\u001b[39m_file \u001b[38;5;241m=\u001b[39m \u001b[38;5;28mself\u001b[39m\u001b[38;5;241m.\u001b[39m_open(file, mode_int, closefd)\n\u001b[0;32m    691\u001b[0m \u001b[38;5;28;01mif\u001b[39;00m \u001b[38;5;28mset\u001b[39m(mode)\u001b[38;5;241m.\u001b[39missuperset(\u001b[38;5;124m'\u001b[39m\u001b[38;5;124mr+\u001b[39m\u001b[38;5;124m'\u001b[39m) \u001b[38;5;129;01mand\u001b[39;00m \u001b[38;5;28mself\u001b[39m\u001b[38;5;241m.\u001b[39mseekable():\n\u001b[0;32m    692\u001b[0m     \u001b[38;5;66;03m# Move write position to 0 (like in Python file objects)\u001b[39;00m\n",
      "File \u001b[1;32m~\\anaconda3\\Lib\\site-packages\\soundfile.py:1265\u001b[0m, in \u001b[0;36mSoundFile._open\u001b[1;34m(self, file, mode_int, closefd)\u001b[0m\n\u001b[0;32m   1264\u001b[0m     err \u001b[38;5;241m=\u001b[39m _snd\u001b[38;5;241m.\u001b[39msf_error(file_ptr)\n\u001b[1;32m-> 1265\u001b[0m     \u001b[38;5;28;01mraise\u001b[39;00m LibsndfileError(err, prefix\u001b[38;5;241m=\u001b[39m\u001b[38;5;124m\"\u001b[39m\u001b[38;5;124mError opening \u001b[39m\u001b[38;5;132;01m{0!r}\u001b[39;00m\u001b[38;5;124m: \u001b[39m\u001b[38;5;124m\"\u001b[39m\u001b[38;5;241m.\u001b[39mformat(\u001b[38;5;28mself\u001b[39m\u001b[38;5;241m.\u001b[39mname))\n\u001b[0;32m   1266\u001b[0m \u001b[38;5;28;01mif\u001b[39;00m mode_int \u001b[38;5;241m==\u001b[39m _snd\u001b[38;5;241m.\u001b[39mSFM_WRITE:\n\u001b[0;32m   1267\u001b[0m     \u001b[38;5;66;03m# Due to a bug in libsndfile version <= 1.0.25, frames != 0\u001b[39;00m\n\u001b[0;32m   1268\u001b[0m     \u001b[38;5;66;03m# when opening a named pipe in SFM_WRITE mode.\u001b[39;00m\n\u001b[0;32m   1269\u001b[0m     \u001b[38;5;66;03m# See http://github.com/erikd/libsndfile/issues/77.\u001b[39;00m\n",
      "\u001b[1;31mLibsndfileError\u001b[0m: Error opening '5 speakers/raj/rn21.wav': System error.",
      "\nDuring handling of the above exception, another exception occurred:\n",
      "\u001b[1;31mFileNotFoundError\u001b[0m                         Traceback (most recent call last)",
      "Cell \u001b[1;32mIn[76], line 5\u001b[0m\n\u001b[0;32m      2\u001b[0m test_file \u001b[38;5;241m=\u001b[39m \u001b[38;5;124m\"\u001b[39m\u001b[38;5;124m5 speakers/raj/rn21.wav\u001b[39m\u001b[38;5;124m\"\u001b[39m  \u001b[38;5;66;03m# Change to an actual unseen file\u001b[39;00m\n\u001b[0;32m      4\u001b[0m \u001b[38;5;66;03m# Extract MFCCs\u001b[39;00m\n\u001b[1;32m----> 5\u001b[0m test_mfcc \u001b[38;5;241m=\u001b[39m extract_mfcc(test_file)\n\u001b[0;32m      7\u001b[0m \u001b[38;5;66;03m# Reshape for model input\u001b[39;00m\n\u001b[0;32m      8\u001b[0m test_mfcc \u001b[38;5;241m=\u001b[39m test_mfcc\u001b[38;5;241m.\u001b[39mreshape(\u001b[38;5;241m1\u001b[39m, \u001b[38;5;241m-\u001b[39m\u001b[38;5;241m1\u001b[39m)\n",
      "Cell \u001b[1;32mIn[4], line 5\u001b[0m, in \u001b[0;36mextract_mfcc\u001b[1;34m(file_path, n_mfcc, sr)\u001b[0m\n\u001b[0;32m      4\u001b[0m \u001b[38;5;28;01mdef\u001b[39;00m \u001b[38;5;21mextract_mfcc\u001b[39m(file_path, n_mfcc\u001b[38;5;241m=\u001b[39m\u001b[38;5;241m13\u001b[39m, sr\u001b[38;5;241m=\u001b[39m\u001b[38;5;241m16000\u001b[39m):\n\u001b[1;32m----> 5\u001b[0m     y, sr \u001b[38;5;241m=\u001b[39m librosa\u001b[38;5;241m.\u001b[39mload(file_path, sr\u001b[38;5;241m=\u001b[39msr, mono\u001b[38;5;241m=\u001b[39m\u001b[38;5;28;01mTrue\u001b[39;00m)  \u001b[38;5;66;03m# Load audio\u001b[39;00m\n\u001b[0;32m      6\u001b[0m     mfcc \u001b[38;5;241m=\u001b[39m librosa\u001b[38;5;241m.\u001b[39mfeature\u001b[38;5;241m.\u001b[39mmfcc(y\u001b[38;5;241m=\u001b[39my, sr\u001b[38;5;241m=\u001b[39msr, n_mfcc\u001b[38;5;241m=\u001b[39mn_mfcc)  \u001b[38;5;66;03m# Extract MFCCs\u001b[39;00m\n\u001b[0;32m      7\u001b[0m     \u001b[38;5;28;01mreturn\u001b[39;00m np\u001b[38;5;241m.\u001b[39mmean(mfcc, axis\u001b[38;5;241m=\u001b[39m\u001b[38;5;241m1\u001b[39m)\n",
      "File \u001b[1;32m~\\anaconda3\\Lib\\site-packages\\librosa\\core\\audio.py:184\u001b[0m, in \u001b[0;36mload\u001b[1;34m(path, sr, mono, offset, duration, dtype, res_type)\u001b[0m\n\u001b[0;32m    180\u001b[0m \u001b[38;5;28;01mif\u001b[39;00m \u001b[38;5;28misinstance\u001b[39m(path, (\u001b[38;5;28mstr\u001b[39m, pathlib\u001b[38;5;241m.\u001b[39mPurePath)):\n\u001b[0;32m    181\u001b[0m     warnings\u001b[38;5;241m.\u001b[39mwarn(\n\u001b[0;32m    182\u001b[0m         \u001b[38;5;124m\"\u001b[39m\u001b[38;5;124mPySoundFile failed. Trying audioread instead.\u001b[39m\u001b[38;5;124m\"\u001b[39m, stacklevel\u001b[38;5;241m=\u001b[39m\u001b[38;5;241m2\u001b[39m\n\u001b[0;32m    183\u001b[0m     )\n\u001b[1;32m--> 184\u001b[0m     y, sr_native \u001b[38;5;241m=\u001b[39m __audioread_load(path, offset, duration, dtype)\n\u001b[0;32m    185\u001b[0m \u001b[38;5;28;01melse\u001b[39;00m:\n\u001b[0;32m    186\u001b[0m     \u001b[38;5;28;01mraise\u001b[39;00m exc\n",
      "File \u001b[1;32m~\\anaconda3\\Lib\\site-packages\\decorator.py:232\u001b[0m, in \u001b[0;36mdecorate.<locals>.fun\u001b[1;34m(*args, **kw)\u001b[0m\n\u001b[0;32m    230\u001b[0m \u001b[38;5;28;01mif\u001b[39;00m \u001b[38;5;129;01mnot\u001b[39;00m kwsyntax:\n\u001b[0;32m    231\u001b[0m     args, kw \u001b[38;5;241m=\u001b[39m fix(args, kw, sig)\n\u001b[1;32m--> 232\u001b[0m \u001b[38;5;28;01mreturn\u001b[39;00m caller(func, \u001b[38;5;241m*\u001b[39m(extras \u001b[38;5;241m+\u001b[39m args), \u001b[38;5;241m*\u001b[39m\u001b[38;5;241m*\u001b[39mkw)\n",
      "File \u001b[1;32m~\\anaconda3\\Lib\\site-packages\\librosa\\util\\decorators.py:59\u001b[0m, in \u001b[0;36mdeprecated.<locals>.__wrapper\u001b[1;34m(func, *args, **kwargs)\u001b[0m\n\u001b[0;32m     50\u001b[0m \u001b[38;5;250m\u001b[39m\u001b[38;5;124;03m\"\"\"Warn the user, and then proceed.\"\"\"\u001b[39;00m\n\u001b[0;32m     51\u001b[0m warnings\u001b[38;5;241m.\u001b[39mwarn(\n\u001b[0;32m     52\u001b[0m     \u001b[38;5;124m\"\u001b[39m\u001b[38;5;132;01m{:s}\u001b[39;00m\u001b[38;5;124m.\u001b[39m\u001b[38;5;132;01m{:s}\u001b[39;00m\u001b[38;5;130;01m\\n\u001b[39;00m\u001b[38;5;130;01m\\t\u001b[39;00m\u001b[38;5;124mDeprecated as of librosa version \u001b[39m\u001b[38;5;132;01m{:s}\u001b[39;00m\u001b[38;5;124m.\u001b[39m\u001b[38;5;124m\"\u001b[39m\n\u001b[0;32m     53\u001b[0m     \u001b[38;5;124m\"\u001b[39m\u001b[38;5;130;01m\\n\u001b[39;00m\u001b[38;5;130;01m\\t\u001b[39;00m\u001b[38;5;124mIt will be removed in librosa version \u001b[39m\u001b[38;5;132;01m{:s}\u001b[39;00m\u001b[38;5;124m.\u001b[39m\u001b[38;5;124m\"\u001b[39m\u001b[38;5;241m.\u001b[39mformat(\n\u001b[1;32m   (...)\u001b[0m\n\u001b[0;32m     57\u001b[0m     stacklevel\u001b[38;5;241m=\u001b[39m\u001b[38;5;241m3\u001b[39m,  \u001b[38;5;66;03m# Would be 2, but the decorator adds a level\u001b[39;00m\n\u001b[0;32m     58\u001b[0m )\n\u001b[1;32m---> 59\u001b[0m \u001b[38;5;28;01mreturn\u001b[39;00m func(\u001b[38;5;241m*\u001b[39margs, \u001b[38;5;241m*\u001b[39m\u001b[38;5;241m*\u001b[39mkwargs)\n",
      "File \u001b[1;32m~\\anaconda3\\Lib\\site-packages\\librosa\\core\\audio.py:240\u001b[0m, in \u001b[0;36m__audioread_load\u001b[1;34m(path, offset, duration, dtype)\u001b[0m\n\u001b[0;32m    237\u001b[0m     reader \u001b[38;5;241m=\u001b[39m path\n\u001b[0;32m    238\u001b[0m \u001b[38;5;28;01melse\u001b[39;00m:\n\u001b[0;32m    239\u001b[0m     \u001b[38;5;66;03m# If the input was not an audioread object, try to open it\u001b[39;00m\n\u001b[1;32m--> 240\u001b[0m     reader \u001b[38;5;241m=\u001b[39m audioread\u001b[38;5;241m.\u001b[39maudio_open(path)\n\u001b[0;32m    242\u001b[0m \u001b[38;5;28;01mwith\u001b[39;00m reader \u001b[38;5;28;01mas\u001b[39;00m input_file:\n\u001b[0;32m    243\u001b[0m     sr_native \u001b[38;5;241m=\u001b[39m input_file\u001b[38;5;241m.\u001b[39msamplerate\n",
      "File \u001b[1;32m~\\anaconda3\\Lib\\site-packages\\audioread\\__init__.py:127\u001b[0m, in \u001b[0;36maudio_open\u001b[1;34m(path, backends)\u001b[0m\n\u001b[0;32m    125\u001b[0m \u001b[38;5;28;01mfor\u001b[39;00m BackendClass \u001b[38;5;129;01min\u001b[39;00m backends:\n\u001b[0;32m    126\u001b[0m     \u001b[38;5;28;01mtry\u001b[39;00m:\n\u001b[1;32m--> 127\u001b[0m         \u001b[38;5;28;01mreturn\u001b[39;00m BackendClass(path)\n\u001b[0;32m    128\u001b[0m     \u001b[38;5;28;01mexcept\u001b[39;00m DecodeError:\n\u001b[0;32m    129\u001b[0m         \u001b[38;5;28;01mpass\u001b[39;00m\n",
      "File \u001b[1;32m~\\anaconda3\\Lib\\site-packages\\audioread\\rawread.py:59\u001b[0m, in \u001b[0;36mRawAudioFile.__init__\u001b[1;34m(self, filename)\u001b[0m\n\u001b[0;32m     58\u001b[0m \u001b[38;5;28;01mdef\u001b[39;00m \u001b[38;5;21m__init__\u001b[39m(\u001b[38;5;28mself\u001b[39m, filename):\n\u001b[1;32m---> 59\u001b[0m     \u001b[38;5;28mself\u001b[39m\u001b[38;5;241m.\u001b[39m_fh \u001b[38;5;241m=\u001b[39m \u001b[38;5;28mopen\u001b[39m(filename, \u001b[38;5;124m'\u001b[39m\u001b[38;5;124mrb\u001b[39m\u001b[38;5;124m'\u001b[39m)\n\u001b[0;32m     61\u001b[0m     \u001b[38;5;28;01mtry\u001b[39;00m:\n\u001b[0;32m     62\u001b[0m         \u001b[38;5;28mself\u001b[39m\u001b[38;5;241m.\u001b[39m_file \u001b[38;5;241m=\u001b[39m aifc\u001b[38;5;241m.\u001b[39mopen(\u001b[38;5;28mself\u001b[39m\u001b[38;5;241m.\u001b[39m_fh)\n",
      "\u001b[1;31mFileNotFoundError\u001b[0m: [Errno 2] No such file or directory: '5 speakers/raj/rn21.wav'"
     ]
    }
   ],
   "source": [
    "# Choose a test audio file (not used in training)\n",
    "test_file = \"5 speakers/raj/rn21.wav\"  # Change to an actual unseen file\n",
    "\n",
    "# Extract MFCCs\n",
    "test_mfcc = extract_mfcc(test_file)\n",
    "\n",
    "# Reshape for model input\n",
    "test_mfcc = test_mfcc.reshape(1, -1)\n",
    "\n",
    "# Predict speaker with confidence scores\n",
    "probabilities = svm_model.predict_proba(test_mfcc)[0]  # Get probability scores for all classes\n",
    "max_prob = max(probabilities)  # Get the highest confidence score\n",
    "predicted_label = np.argmax(probabilities)  # Get the index of the best-matching speaker\n",
    "\n",
    "# Set threshold for unknown speakers\n",
    "threshold = 0.2  # Adjust if needed (try 0.6 or 0.7 if it's misclassifying)\n",
    "\n",
    "if max_prob < threshold:\n",
    "    predicted_speaker = \"Unknown\"\n",
    "else:\n",
    "    predicted_speaker = label_encoder.inverse_transform([predicted_label])[0]\n",
    "\n",
    "print(f\"Predicted Speaker: {predicted_speaker} (Confidence: {max_prob:.2f})\")"
   ]
  },
  {
   "cell_type": "code",
   "execution_count": null,
   "id": "ca6f0e33",
   "metadata": {},
   "outputs": [],
   "source": []
  }
 ],
 "metadata": {
  "kernelspec": {
   "display_name": "Python 3 (ipykernel)",
   "language": "python",
   "name": "python3"
  },
  "language_info": {
   "codemirror_mode": {
    "name": "ipython",
    "version": 3
   },
   "file_extension": ".py",
   "mimetype": "text/x-python",
   "name": "python",
   "nbconvert_exporter": "python",
   "pygments_lexer": "ipython3",
   "version": "3.11.5"
  }
 },
 "nbformat": 4,
 "nbformat_minor": 5
}
